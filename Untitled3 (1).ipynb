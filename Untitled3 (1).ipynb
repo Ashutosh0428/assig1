{
 "cells": [
  {
   "cell_type": "markdown",
   "id": "9bd56ae0",
   "metadata": {},
   "source": [
    "# ASSIGNMENT 1\n",
    "1.\n",
    "\n",
    "\n",
    "\n",
    "* = expression multiplication oprator\n",
    "- = expression minus oprator\n",
    "/ = expression division oprator\n",
    "+ = expression addition oprator\n",
    "'hello' = value string type\n",
    "-87.8 = value float type\n",
    "6 = value int type\n",
    "\n",
    " "
   ]
  },
  {
   "cell_type": "markdown",
   "id": "c630a259",
   "metadata": {},
   "source": [
    "2.\n",
    "string --> string is the collection of character which are written in quotes \n",
    " ex--> print(\" hello my name is ashutosh\")\n",
    "\n",
    "variable--> variable are those where we can store a value in it.\n",
    " ex-> a=29,b=45.6\n",
    " "
   ]
  },
  {
   "cell_type": "code",
   "execution_count": 3,
   "id": "e1ca6e9a",
   "metadata": {},
   "outputs": [
    {
     "name": "stdout",
     "output_type": "stream",
     "text": [
      "5 <class 'int'>\n",
      "2.0 <class 'float'>\n",
      "(1+2j) True\n"
     ]
    }
   ],
   "source": [
    "'''3.\n",
    "\n",
    "In python there are different type of datatype \n",
    "\n",
    "int\n",
    "float\n",
    "complex'''\n",
    "\n",
    "a = 5\n",
    "print(a ,type(a))\n",
    "\n",
    "a = 2.0\n",
    "print(a, type(a))\n",
    "\n",
    "a = 1+2j\n",
    "print(a, isinstance(1+2j,complex))\n"
   ]
  },
  {
   "cell_type": "markdown",
   "id": "645a9fd8",
   "metadata": {},
   "source": [
    "4.\n",
    "\n",
    "\n",
    "An expression is a made up of \n",
    "1.variables\n",
    "2.operators \n",
    "which are constructed according to the syntax of the language, that evaluates to a single value.\n",
    "\n",
    "\n"
   ]
  },
  {
   "cell_type": "code",
   "execution_count": null,
   "id": "00f1fe9a",
   "metadata": {},
   "outputs": [],
   "source": [
    "5.\n",
    "\n",
    "\n",
    "Expression is a combination of variables, operations and values that get as result.\n",
    "\n",
    "ex. --> a =34\n",
    "        b=32 \n",
    "        c= a+b\n",
    "\n",
    "Statement is like a command which print same action.\n",
    "ex -->\n",
    "print(\"ineoron is doing very good work\")\n",
    "output-->ineoron is doing very good wo"
   ]
  },
  {
   "cell_type": "code",
   "execution_count": 6,
   "id": "c59fddf0",
   "metadata": {},
   "outputs": [
    {
     "data": {
      "text/plain": [
       "23"
      ]
     },
     "execution_count": 6,
     "metadata": {},
     "output_type": "execute_result"
    }
   ],
   "source": [
    "# 6.\n",
    "bacon = 22\n",
    "bacon + 1 "
   ]
  },
  {
   "cell_type": "code",
   "execution_count": 1,
   "id": "13609e01",
   "metadata": {},
   "outputs": [
    {
     "data": {
      "text/plain": [
       "'spamspamspam'"
      ]
     },
     "execution_count": 1,
     "metadata": {},
     "output_type": "execute_result"
    }
   ],
   "source": [
    "#7.\n",
    "'spam'+ 'spamspam'"
   ]
  },
  {
   "cell_type": "code",
   "execution_count": 10,
   "id": "4cf63edd",
   "metadata": {},
   "outputs": [
    {
     "data": {
      "text/plain": [
       "'spamspamspam'"
      ]
     },
     "execution_count": 10,
     "metadata": {},
     "output_type": "execute_result"
    }
   ],
   "source": [
    "'spam'* 3"
   ]
  },
  {
   "cell_type": "markdown",
   "id": "c832b70d",
   "metadata": {},
   "source": [
    "8.\n",
    "\n",
    "\n",
    "100 can't be variable becoz it's a int type and we can't store a value into the value itself\n",
    "while eggs can be variable becoz it's  not  value or operator we can store any type value in it\n",
    "\n",
    "\n",
    "\n",
    "9.\n",
    "\n",
    "\n",
    "int()  for integers\n",
    "float() for floating pt.\n",
    "str()   for string\n",
    "\n",
    "\n",
    "10.\n",
    "\n",
    "'I have eaten'+99+'burritos'\n",
    "\n",
    "it will show error becoz here 99 will be taken as integer type and we can't add string to an integer\n",
    "so\n",
    "\n",
    "\n",
    "'I have eaten'+'99'+'burritos'\n",
    "\n",
    "now it will take 99 as string and print full statement\n"
   ]
  },
  {
   "cell_type": "code",
   "execution_count": 12,
   "id": "552f7321",
   "metadata": {},
   "outputs": [
    {
     "data": {
      "text/plain": [
       "'I have eaten99burritos'"
      ]
     },
     "execution_count": 12,
     "metadata": {},
     "output_type": "execute_result"
    }
   ],
   "source": [
    "'I have eaten'+'99'+'burritos'"
   ]
  },
  {
   "cell_type": "code",
   "execution_count": null,
   "id": "d9ba098d",
   "metadata": {},
   "outputs": [],
   "source": []
  }
 ],
 "metadata": {
  "kernelspec": {
   "display_name": "Python 3 (ipykernel)",
   "language": "python",
   "name": "python3"
  },
  "language_info": {
   "codemirror_mode": {
    "name": "ipython",
    "version": 3
   },
   "file_extension": ".py",
   "mimetype": "text/x-python",
   "name": "python",
   "nbconvert_exporter": "python",
   "pygments_lexer": "ipython3",
   "version": "3.9.7"
  }
 },
 "nbformat": 4,
 "nbformat_minor": 5
}
